{
 "metadata": {
  "language_info": {
   "codemirror_mode": {
    "name": "ipython",
    "version": 3
   },
   "file_extension": ".py",
   "mimetype": "text/x-python",
   "name": "python",
   "nbconvert_exporter": "python",
   "pygments_lexer": "ipython3",
   "version": "3.8.3-final"
  },
  "orig_nbformat": 2,
  "kernelspec": {
   "name": "python3",
   "display_name": "Python 3",
   "language": "python"
  }
 },
 "nbformat": 4,
 "nbformat_minor": 2,
 "cells": [
  {
   "cell_type": "code",
   "execution_count": 75,
   "metadata": {},
   "outputs": [],
   "source": [
    "import pandas as pd\n",
    "import numpy as np\n",
    "import datetime as dt\n",
    "import statsmodels.api as sm\n",
    "from matplotlib import pyplot\n",
    "import plotly.express as px\n",
    "import plotly.graph_objects as go"
   ]
  },
  {
   "cell_type": "code",
   "execution_count": 59,
   "metadata": {},
   "outputs": [],
   "source": [
    "#DATA#\n",
    "\n",
    "# Put all the data files in one folder and type it below:\n",
    "Common_Path = 'C:\\\\Users\\\\Davide\\\\Documents\\\\Workspace\\\\Fintech Report\\\\Data\\\\'\n",
    "\n",
    "#2016\n",
    "Y_2016_q1 = Common_Path + 'LoanStats_securev1_2016Q1.xlsx'\n",
    "Y_2016_q2 = Common_Path + 'LoanStats_securev1_2016Q2.xlsx'\n",
    "Y_2016_q3 = Common_Path + 'LoanStats_securev1_2016Q3.xlsx'\n",
    "Y_2016_q4 = Common_Path + 'LoanStats_securev1_2016Q4.xlsx'\n",
    "#2017\n",
    "Y_2017_q1 = Common_Path + 'LoanStats_securev1_2017Q1.xlsx'\n",
    "Y_2017_q2 = Common_Path + 'LoanStats_securev1_2017Q2.xlsx'\n",
    "Y_2017_q3 = Common_Path + 'LoanStats_securev1_2017Q3.xlsx'\n",
    "Y_2017_q4 = Common_Path + 'LoanStats_securev1_2017Q4.xlsx'\n",
    "#2018\n",
    "Y_2018_q1 = Common_Path + 'LoanStats_securev1_2018Q1.xlsx'\n",
    "Y_2018_q2 = Common_Path + 'LoanStats_securev1_2018Q2.xlsx'\n",
    "Y_2018_q3 = Common_Path + 'LoanStats_securev1_2018Q3.xlsx'\n",
    "Y_2018_q4 = Common_Path + 'LoanStats_securev1_2018Q4.xlsx'\n",
    "#2019\n",
    "Y_2019_q1 = Common_Path + 'LoanStats_securev1_2019Q1.xlsx'\n",
    "Y_2019_q2 = Common_Path + 'LoanStats_securev1_2019Q2.xlsx'\n",
    "Y_2019_q3 = Common_Path + 'LoanStats_securev1_2019Q3.xlsx'\n",
    "Y_2019_q4 = Common_Path + 'LoanStats_securev1_2019Q4.xlsx'\n",
    "#2020\n",
    "Y_2020_q1 = Common_Path + 'LoanStats_securev1_2020Q1.xlsx'\n",
    "Y_2020_q2 = Common_Path + 'LoanStats_securev1_2020Q2.xlsx'\n",
    "Y_2020_q3 = Common_Path + 'LoanStats_securev1_2020Q3.xlsx'\n"
   ]
  },
  {
   "cell_type": "code",
   "execution_count": 76,
   "metadata": {},
   "outputs": [],
   "source": [
    "def excelize(namefile, df):\n",
    "    writer = pd.ExcelWriter(namefile + '.xlsx', engine='xlsxwriter')\n",
    "    df.to_excel(writer, sheet_name='Sheet 1')\n",
    "    return writer.save()\n",
    "\n"
   ]
  },
  {
   "cell_type": "code",
   "execution_count": 77,
   "metadata": {},
   "outputs": [],
   "source": [
    "def orizontalmerge(df1,df2):\n",
    "    df = pd.merge(df1, df2, on='issue_d', how='inner')\n",
    "    df = pd.reset_index(drop=True)\n",
    "    return df\n"
   ]
  },
  {
   "cell_type": "code",
   "execution_count": 125,
   "metadata": {},
   "outputs": [],
   "source": [
    "def verticalconcat(dataframes):\n",
    "    df = pd.concat(dataframes,axis=0)\n",
    "    return df"
   ]
  },
  {
   "cell_type": "code",
   "execution_count": 63,
   "metadata": {},
   "outputs": [],
   "source": [
    "def fix_year(df, year):\n",
    "    df['issue_d'] = pd.to_datetime(df['issue_d'])\n",
    "    df['issue_d'] = df['issue_d'].map(lambda x: x.replace(year=year))\n",
    "    df.sort_values(by='issue_d', ascending=True)\n",
    "    return df"
   ]
  },
  {
   "cell_type": "code",
   "execution_count": 64,
   "metadata": {},
   "outputs": [],
   "source": [
    "def average_int(url, year):\n",
    "    df = pd.read_excel(url,index_col=0, engine='openpyxl')\n",
    "    df1 = df[['issue_d','int_rate']]\n",
    "    df1 = fix_year(df1,year)\n",
    "    dg = df1.groupby(pd.Grouper(key='issue_d', freq='1M')).mean().reset_index().rename(columns={'int_rate':'Average'})\n",
    "    dg1 = df1.groupby(pd.Grouper(key='issue_d', freq='1M')).quantile(q=0.05).reset_index().rename(columns={'int_rate':'5% percentile'})\n",
    "    dg2 = df1.groupby(pd.Grouper(key='issue_d', freq='1M')).quantile(q=0.95).reset_index().rename(columns={'int_rate':'95% percentile'})\n",
    "    result = pd.merge(dg, dg1, on='issue_d', how='inner')\n",
    "    result = pd.merge(result, dg2, on='issue_d', how='inner')\n",
    "    result['issue_d'] = result['issue_d'].dt.strftime('%b-%y')\n",
    "    return result\n"
   ]
  },
  {
   "cell_type": "code",
   "execution_count": 65,
   "metadata": {},
   "outputs": [],
   "source": [
    "def compare_grades(url, year):\n",
    "    df = pd.read_excel(url,index_col=0, engine='openpyxl')\n",
    "    df1 = df[['issue_d','grade','int_rate']]\n",
    "    df2 = fix_year(df1,year)\n",
    "    dg = df2.groupby(['issue_d', 'grade'])['grade'].count().rename('n').reset_index()\n",
    "    dg1 = dg.pivot_table('n', ['issue_d'], 'grade')\n",
    "    final = dg1.reset_index(drop=False)\n",
    "    final['issue_d'] = final['issue_d'].dt.strftime('%b-%y')\n",
    "    final['Total'] = final.sum(axis=1)\n",
    "    return final\n"
   ]
  },
  {
   "cell_type": "code",
   "execution_count": null,
   "metadata": {},
   "outputs": [],
   "source": []
  },
  {
   "cell_type": "code",
   "execution_count": 66,
   "metadata": {},
   "outputs": [],
   "source": [
    "def average_int_grade(url, year):\n",
    "    df = pd.read_excel(url,index_col=0, engine='openpyxl')\n",
    "    df1 = df[['issue_d','grade','int_rate']]\n",
    "    df2 = fix_year(df1,year)\n",
    "    dg1 = df2.pivot_table('int_rate', ['issue_d'], 'grade')\n",
    "    final = dg1.reset_index(drop=False)\n",
    "    final['issue_d'] = final['issue_d'].dt.strftime('%b-%y')\n",
    "    return final"
   ]
  },
  {
   "cell_type": "code",
   "execution_count": null,
   "metadata": {},
   "outputs": [],
   "source": [
    "# Apply Average Interest rate\n",
    "\n",
    "Y_2016_q1_R = average_int(Y_2016_q1,2016)\n",
    "Y_2016_q2_R = average_int(Y_2016_q2,2016)\n",
    "Y_2016_q3_R = average_int(Y_2016_q3,2016)\n",
    "Y_2016_q4_R = average_int(Y_2016_q4,2016)\n",
    "Y_2017_q1_R = average_int(Y_2017_q1,2017)\n",
    "Y_2017_q2_R = average_int(Y_2017_q2,2017)\n",
    "Y_2017_q3_R = average_int(Y_2017_q3,2017)\n",
    "Y_2017_q4_R = average_int(Y_2017_q4,2017)\n",
    "Y_2018_q1_R = average_int(Y_2018_q1,2018)\n",
    "Y_2018_q2_R = average_int(Y_2018_q2,2018)\n",
    "Y_2018_q3_R = average_int(Y_2018_q3,2018)\n",
    "Y_2018_q4_R = average_int(Y_2018_q4,2018)\n",
    "Y_2019_q1_R = average_int(Y_2019_q1,2019)\n",
    "Y_2019_q2_R = average_int(Y_2019_q2,2019)\n",
    "Y_2019_q3_R = average_int(Y_2019_q3,2019)\n",
    "Y_2019_q4_R = average_int(Y_2019_q4,2019)\n",
    "Y_2020_q1_R = average_int(Y_2020_q1,2020)\n",
    "Y_2020_q2_R = average_int(Y_2020_q2,2020)\n",
    "Y_2020_q3_R = average_int(Y_2020_q3,2020)"
   ]
  },
  {
   "source": [
    "# Apply the comparison between grades\n",
    "\n",
    "Y_2016_q1_F = compare_grades(Y_2016_q1,2016)\n",
    "Y_2016_q2_F = compare_grades(Y_2016_q2,2016)\n",
    "Y_2016_q2_F = compare_grades(Y_2016_q3,2016)\n",
    "Y_2016_q4_F = compare_grades(Y_2016_q4,2016)\n",
    "Y_2017_q1_F = compare_grades(Y_2017_q1,2017)\n",
    "Y_2017_q2_F = compare_grades(Y_2017_q2,2017)\n",
    "Y_2017_q3_F = compare_grades(Y_2017_q3,2017)\n",
    "Y_2017_q4_F = compare_grades(Y_2017_q4,2017)\n",
    "Y_2018_q1_F = compare_grades(Y_2018_q1,2018)\n",
    "Y_2018_q2_F = compare_grades(Y_2018_q2,2018)\n",
    "Y_2018_q3_F = compare_grades(Y_2018_q3,2018)\n",
    "Y_2018_q4_F = compare_grades(Y_2018_q4,2018)\n",
    "Y_2019_q1_F = compare_grades(Y_2019_q1,2019)\n",
    "Y_2019_q2_F = compare_grades(Y_2019_q2,2019)\n",
    "Y_2019_q3_F = compare_grades(Y_2019_q3,2019)\n",
    "Y_2019_q4_F = compare_grades(Y_2019_q4,2019)\n",
    "Y_2020_q1_F = compare_grades(Y_2020_q1,2020)\n",
    "Y_2020_q2_F = compare_grades(Y_2020_q2,2020)\n",
    "Y_2020_q3_F = compare_grades(Y_2020_q3,2020)"
   ],
   "cell_type": "code",
   "metadata": {},
   "execution_count": null,
   "outputs": []
  },
  {
   "cell_type": "code",
   "execution_count": 69,
   "metadata": {},
   "outputs": [],
   "source": [
    "Y_2016_q1_G = average_int_grade(Y_2016_q1,2016)\n",
    "Y_2016_q2_G = average_int_grade(Y_2016_q2,2016)\n",
    "Y_2016_q3_G = average_int_grade(Y_2016_q3,2016)\n",
    "Y_2016_q4_G = average_int_grade(Y_2016_q4,2016)\n",
    "Y_2017_q1_G = average_int_grade(Y_2017_q1,2017)\n",
    "Y_2017_q2_G = average_int_grade(Y_2017_q2,2017)\n",
    "Y_2017_q3_G = average_int_grade(Y_2017_q3,2017)\n",
    "Y_2017_q4_G = average_int_grade(Y_2017_q4,2017)\n",
    "Y_2018_q1_G = average_int_grade(Y_2018_q1,2018)\n",
    "Y_2018_q2_G = average_int_grade(Y_2018_q2,2018)\n",
    "Y_2018_q3_G = average_int_grade(Y_2018_q3,2018)\n",
    "Y_2018_q4_G = average_int_grade(Y_2018_q4,2018)\n",
    "Y_2019_q1_G = average_int_grade(Y_2019_q1,2019)\n",
    "Y_2019_q2_G = average_int_grade(Y_2019_q2,2019)\n",
    "Y_2019_q3_G = average_int_grade(Y_2019_q3,2019)\n",
    "Y_2019_q4_G = average_int_grade(Y_2019_q4,2019)\n",
    "Y_2020_q1_G = average_int_grade(Y_2020_q1,2020)\n",
    "Y_2020_q2_G = average_int_grade(Y_2020_q2,2020)\n",
    "Y_2020_q3_G = average_int_grade(Y_2020_q3,2020)"
   ]
  },
  {
   "cell_type": "code",
   "execution_count": null,
   "metadata": {},
   "outputs": [],
   "source": [
    "dataframes_F = [Y_2016_q1_F,Y_2016_q2_F,Y_2016_q3_F,Y_2016_q4_F,Y_2017_q1_F,Y_2017_q2_F,Y_2017_q3_F,Y_2017_q4_F,Y_2018_q1_F,Y_2018_q2_F,Y_2018_q3_F,Y_2018_q4_F,Y_2019_q1_F,Y_2019_q2_F,Y_2019_q3_F, Y_2019_q4_F,Y_2020_q1_F,Y_2020_q2_F,Y_2020_q3_F]\n",
    "\n",
    "From2016_to_2020_GRADES = verticalconcat(dataframes_F)"
   ]
  },
  {
   "cell_type": "code",
   "execution_count": 119,
   "metadata": {},
   "outputs": [
    {
     "output_type": "error",
     "ename": "NameError",
     "evalue": "name 'Y_2016_q1_R' is not defined",
     "traceback": [
      "\u001b[1;31m---------------------------------------------------------------------------\u001b[0m",
      "\u001b[1;31mNameError\u001b[0m                                 Traceback (most recent call last)",
      "\u001b[1;32m<ipython-input-119-0ae089660244>\u001b[0m in \u001b[0;36m<module>\u001b[1;34m\u001b[0m\n\u001b[1;32m----> 1\u001b[1;33m \u001b[0mdataframes_R\u001b[0m \u001b[1;33m=\u001b[0m \u001b[1;33m[\u001b[0m\u001b[0mY_2016_q1_R\u001b[0m\u001b[1;33m,\u001b[0m\u001b[0mY_2016_q2_R\u001b[0m\u001b[1;33m,\u001b[0m\u001b[0mY_2016_q3_R\u001b[0m\u001b[1;33m,\u001b[0m\u001b[0mY_2016_q4_R\u001b[0m\u001b[1;33m,\u001b[0m\u001b[0mY_2017_q1_R\u001b[0m\u001b[1;33m,\u001b[0m\u001b[0mY_2017_q2_R\u001b[0m\u001b[1;33m,\u001b[0m\u001b[0mY_2017_q3_R\u001b[0m\u001b[1;33m,\u001b[0m\u001b[0mY_2017_q4_R\u001b[0m\u001b[1;33m,\u001b[0m\u001b[0mY_2018_q1_R\u001b[0m\u001b[1;33m,\u001b[0m\u001b[0mY_2018_q2_R\u001b[0m\u001b[1;33m,\u001b[0m\u001b[0mY_2018_q3_R\u001b[0m\u001b[1;33m,\u001b[0m\u001b[0mY_2018_q4_R\u001b[0m\u001b[1;33m,\u001b[0m\u001b[0mY_2019_q1_R\u001b[0m\u001b[1;33m,\u001b[0m\u001b[0mY_2019_q2_R\u001b[0m\u001b[1;33m,\u001b[0m\u001b[0mY_2019_q3_R\u001b[0m\u001b[1;33m,\u001b[0m \u001b[0mY_2019_q4_R\u001b[0m\u001b[1;33m,\u001b[0m\u001b[0mY_2020_q1_R\u001b[0m\u001b[1;33m,\u001b[0m\u001b[0mY_2020_q2_R\u001b[0m\u001b[1;33m,\u001b[0m\u001b[0mY_2020_q3_R\u001b[0m\u001b[1;33m]\u001b[0m\u001b[1;33m\u001b[0m\u001b[1;33m\u001b[0m\u001b[0m\n\u001b[0m\u001b[0;32m      2\u001b[0m \u001b[1;33m\u001b[0m\u001b[0m\n\u001b[0;32m      3\u001b[0m \u001b[0mFrom2016_to_2020_INT\u001b[0m \u001b[1;33m=\u001b[0m \u001b[0mverticalconcat\u001b[0m\u001b[1;33m(\u001b[0m\u001b[0mdataframes_R\u001b[0m\u001b[1;33m)\u001b[0m\u001b[1;33m\u001b[0m\u001b[1;33m\u001b[0m\u001b[0m\n",
      "\u001b[1;31mNameError\u001b[0m: name 'Y_2016_q1_R' is not defined"
     ]
    }
   ],
   "source": [
    "dataframes_R = [Y_2016_q1_R,Y_2016_q2_R,Y_2016_q3_R,Y_2016_q4_R,Y_2017_q1_R,Y_2017_q2_R,Y_2017_q3_R,Y_2017_q4_R,Y_2018_q1_R,Y_2018_q2_R,Y_2018_q3_R,Y_2018_q4_R,Y_2019_q1_R,Y_2019_q2_R,Y_2019_q3_R, Y_2019_q4_R,Y_2020_q1_R,Y_2020_q2_R,Y_2020_q3_R]\n",
    "\n",
    "From2016_to_2020_INT = verticalconcat(dataframes_R)"
   ]
  },
  {
   "cell_type": "code",
   "execution_count": 128,
   "metadata": {},
   "outputs": [],
   "source": [
    "Dataframe_G = [Y_2016_q1_G,Y_2016_q2_G,Y_2016_q3_G,Y_2016_q4_G,Y_2017_q1_G,Y_2017_q2_G,Y_2017_q3_G,Y_2017_q4_G,Y_2018_q1_G,Y_2018_q2_G,Y_2018_q3_G,Y_2018_q4_G,Y_2019_q1_G,Y_2019_q2_G,Y_2019_q3_G,Y_2019_q4_G,Y_2020_q1_G,Y_2020_q2_G,Y_2020_q3_G]\n",
    "\n",
    "From2016_to_2020_INT_GRADES = verticalconcat(dataframes_G)\n",
    "\n"
   ]
  },
  {
   "cell_type": "code",
   "execution_count": null,
   "metadata": {},
   "outputs": [],
   "source": [
    "Final_Result = orizontalmerge(From2016_to_2020_GRADES,From2016_to_2020_INT)\n",
    "Final_Result2 = orizontalmerge(Final_Result,From2016_to_2020_INT_GRADES)"
   ]
  },
  {
   "cell_type": "code",
   "execution_count": null,
   "metadata": {},
   "outputs": [],
   "source": [
    "excelize('Final_Result',Final_Result2)"
   ]
  },
  {
   "cell_type": "code",
   "execution_count": null,
   "metadata": {},
   "outputs": [],
   "source": [
    "excelize('GRADES_INT_COMP', From2016_to_2020_INT_GRADES)"
   ]
  },
  {
   "cell_type": "code",
   "execution_count": 111,
   "metadata": {},
   "outputs": [],
   "source": []
  },
  {
   "cell_type": "code",
   "execution_count": null,
   "metadata": {},
   "outputs": [],
   "source": []
  }
 ]
}